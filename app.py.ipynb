{
 "cells": [
  {
   "cell_type": "code",
   "execution_count": 7,
   "id": "bd413912-566e-4629-bdfc-9249c05025ae",
   "metadata": {},
   "outputs": [],
   "source": [
    "from flask import Flask, render_template, request\n",
    "import pandas as pd\n",
    "from flask import jsonify\n",
    "from flask_cors import CORS\n",
    "\n",
    "app = Flask(__name__, static_url_path='/static', static_folder='static')"
   ]
  },
  {
   "cell_type": "code",
   "execution_count": 8,
   "id": "89f624af-a044-4dee-b7fa-705aaa6237a3",
   "metadata": {},
   "outputs": [],
   "source": [
    "# _________________________________________________________________________________________________________________________\n",
    "# Specify the path to your Excel file\n",
    "excel_file_path = '/Users/abbywoolf/Desktop/Costing-Tool/Cleaned_Cost_Data.xlsx'\n",
    "# /Users/abbywoolf/Desktop/Costing-Tool\n",
    "# Specify the sheet name you want to import\n",
    "sheet_name = 'Frames'  # Replace 'Sheet1' with the actual sheet name\n",
    "# Read the Excel file into a DataFrame\n",
    "df = pd.read_excel(excel_file_path, sheet_name=sheet_name)\n",
    "# __________________________________________________________________________________________________________________________-"
   ]
  },
  {
   "cell_type": "code",
   "execution_count": 9,
   "id": "b1bc8c4c-aa7e-4cf1-b116-0aed805e7763",
   "metadata": {},
   "outputs": [],
   "source": [
    "# MAKE Frames_df\n",
    "frames_df = df.dropna()\n",
    "# frames_df['Frame'] = frames_df['Frame'].str.lower()\n",
    "frames_df.loc[:, 'Frame'] = frames_df['Frame'].str.lower()\n",
    "# frames_df['GP Price'] = frames_df['GP Price'].astype(float)\n",
    "\n",
    "printer_data = {\n",
    "    'PrinterName': ['inca-reductive', 'inca-synograph', 'epson', 'swissQ-synograph', ' SwissQ-Reductive', 'canon'],\n",
    "    'labor': [8.0, 8.0, 5.0, 20.0, 20.00, 7.0],\n",
    "    'ink': [.08, 1.68, 0.22, 2.80, .22, .27]\n",
    "}\n",
    "printer_costs_df = pd.DataFrame(printer_data)\n",
    "# Make substrate df\n",
    "substrate_data = {\n",
    "    'SubstrateType': ['canvas', 'Epson-paper', 'Canon-paper', 'mdf', 'tar-board'],\n",
    "    'Price/sf': [.66, 1.35, 1.35, 0.99, .17]\n",
    "}\n",
    "substrate_df = pd.DataFrame(substrate_data)\n",
    "\n",
    "# Make hardware df\n",
    "hardware_data = {\n",
    "    'hardwareType': ['cleat', 'wire', 'd-rings'],\n",
    "    'price': [5.00, 2.00, 0]\n",
    "}\n",
    "hardware_df = pd.DataFrame(hardware_data)"
   ]
  },
  {
   "cell_type": "code",
   "execution_count": null,
   "id": "6d7e8465-9e89-42f0-b568-cf428d667011",
   "metadata": {},
   "outputs": [],
   "source": [
    "\n"
   ]
  },
  {
   "cell_type": "code",
   "execution_count": 10,
   "id": "63c8afeb-22e9-4031-87c2-df28dce2952e",
   "metadata": {},
   "outputs": [],
   "source": [
    "# ___________________________FUNCTION______________________________________________\n",
    "def total_cost(length, width, frame_type, substrate, printer, hardware):\n",
    "    # valid_options_arg1 = ['fps','gwt','bfl','cfl','gfl','bgf','nfl','wfl','bcap','ncap','gcap','walcap']\n",
    "    # valid_options_arg2 = ['canvas', 'Epson-paper', 'Canon-paper', 'mdf']\n",
    "    # valid_options_arg3 = ['inca-reductive', 'inca-synograph', 'epson', 'swissQ-synograph', ' SwissQ-Reductive', 'canon']\n",
    "    # valid_options_arg4 = ['cleat', 'wire', 'd-rings']\n",
    "\n",
    "    # # Check if the arguments are in the valid options\n",
    "    # if frame_type not in valid_options_arg1:\n",
    "    #     raise ValueError(f\"Invalid value for arg1. Allowed options are: {valid_options_arg1}\")\n",
    "    # if substrate not in valid_options_arg2:\n",
    "    #     raise ValueError(f\"Invalid value for arg2. Allowed options are: {valid_options_arg2}\")\n",
    "    # if printer not in valid_options_arg3:\n",
    "    #     raise ValueError(f\"Invalid value for arg3. Allowed options are: {valid_options_arg3}\")\n",
    "    # if hardware not in valid_options_arg4:\n",
    "    #     raise ValueError(f\"Invalid value for arg4. Allowed options are: {valid_options_arg4}\")\n",
    "    \n",
    "  #_______________________________________________________________________________ \n",
    "    # Calc Substrate Costs\n",
    "    price_per_sf = substrate_df.loc[substrate_df['SubstrateType'] == substrate, 'Price/sf'].values[0]\n",
    "    if substrate == 'canvas':\n",
    "        if length > 58 and width > 58:\n",
    "            cost_of_substrate = (((length + 11) * (width + 11)) / 144) * price_per_sf\n",
    "        else:\n",
    "            cost_of_substrate = (((length + 8) * (width + 8)) / 144) * price_per_sf\n",
    "\n",
    "    elif substrate == 'Epson-paper' or 'Canon-paper':\n",
    "        cost_of_substrate = (((length + 1.5) * (width +1.5)) / 144) * price_per_sf\n",
    "\n",
    "    elif substrate == 'mdf':\n",
    "        #Check if dimensions match 49x60\n",
    "        if (length == 60 and width == 48) or (length == 48 and width == 60):\n",
    "            cost_of_substrate= 15.32\n",
    "        else:\n",
    "            cost_of_substrate = ((length * width) / 144) * 1.2\n",
    "    else:\n",
    "        raise ValueError(\"Invalid substrate\")\n",
    "    #return cost_of_substrate\n",
    "\n",
    "    # price_per_sf = substrate_df.loc[substrate_df['Substrate'] == substrate, 'Price/sf'].values[0]\n",
    "    #cost_of_substrate = square_feet * price_per_sf\n",
    "    \n",
    "  #_______________________________________________________________________________  \n",
    "    # Calc Frame costs\n",
    "    # Check if a matching row exists in the DataFrame\n",
    "    length= float(length)\n",
    "    width= float(width)\n",
    "    matching_rows = frames_df[\n",
    "        (frames_df['Length'] == length) &\n",
    "        (frames_df['Width'] == width) &\n",
    "        (frames_df['Frame'].str.contains(frame_type))\n",
    "    ]\n",
    "\n",
    "    if not matching_rows.empty:\n",
    "        cost_of_frame = matching_rows['GP Price'].values[0]\n",
    "        return cost_of_frame\n",
    "    else:\n",
    "        print(f\"Frame with Length {length}, Width {width}, and Type {frame_type} not found.\")\n",
    "        return None  # Or any other appropriate value or indication\n",
    "\n",
    "#__________________________________________________________________________________\n",
    "    # Implement the calculation for printer costs\n",
    "\n",
    "    ink_per_sf = printer_costs_df.loc[printer_costs_df['PrinterName'] == printer, 'ink'].values[0]\n",
    "    labor_cost = printer_costs_df.loc[printer_costs_df['PrinterName'] == printer, 'labor'].values[0]\n",
    "\n",
    "    total_printer_cost = ((ink_per_sf) * (length * width) / 144) + labor_cost\n",
    "#_______________________________________________________________________________ \n",
    "    #implement hardware costs\n",
    "    hardware_cost = hardware_df.loc[hardware_df['hardwareType'] == hardware, 'price'].values[0]\n",
    "#___________________________________________________________________________________\n",
    "    # Create the desired margin calculator\n",
    "    final_cost = cost_of_substrate + cost_of_frame + total_printer_cost + hardware_cost\n",
    "    return final_cost\n",
    "\n",
    " #___________________________________________________________________________________   \n",
    "    # margin_dec = margin_percent * .01\n",
    "    # royality_dec = royality_percent * .01\n",
    "    \n",
    "    # wsp = final_cost_no_roy/(1-royality_dec - margin_dec)\n",
    "    # royalty_value = wsp * royality_dec\n",
    "    # final_cost_with_roy = final_cost_no_roy + royalty_value\n",
    "    # return final_cost_with_roy\n",
    " #________________________END FUNCTION______________________________________________     "
   ]
  },
  {
   "cell_type": "code",
   "execution_count": 11,
   "id": "87bc6524-29e6-4948-a8cc-ea633c6c3f2e",
   "metadata": {},
   "outputs": [
    {
     "data": {
      "text/plain": [
       "58.77"
      ]
     },
     "execution_count": 11,
     "metadata": {},
     "output_type": "execute_result"
    }
   ],
   "source": [
    "test = total_cost(12, 12, 'fps', 'canvas', 'inca-synograph','cleat')\n",
    "test"
   ]
  },
  {
   "cell_type": "code",
   "execution_count": 12,
   "id": "d2b464fc-e2f4-48af-98ca-6b120fabd0ee",
   "metadata": {},
   "outputs": [],
   "source": [
    "def test_substrate_cost(length, width, substrate):\n",
    "    price_per_sf = substrate_df.loc[substrate_df['SubstrateType'] == substrate, 'Price/sf'].values[0]\n",
    "    if substrate == 'canvas':\n",
    "        if length > 58 and width > 58:\n",
    "            cost_of_substrate = (((length + 11) * (width + 11)) / 144) * price_per_sf\n",
    "        else:\n",
    "            cost_of_substrate = (((length + 8) * (width + 8)) / 144) * price_per_sf\n",
    "\n",
    "    elif substrate == 'Epson-paper' or substrate == 'Canon-paper':\n",
    "        cost_of_substrate = (((length + 1.5) * (width +1.5)) / 144) * price_per_sf\n",
    "\n",
    "\n",
    "    elif substrate == 'tar-board':\n",
    "        cost_of_substrate = (((length + .125) * (width + .125)) / 144) * price_per_sf\n",
    "    \n",
    "    elif substrate == 'mdf':\n",
    "        #Check if dimensions match 49x60\n",
    "        if (length == 60 and width == 48) or (length == 48 and width == 60):\n",
    "            cost_of_substrate= 15.32\n",
    "        else:\n",
    "            cost_of_substrate = (((length * width) / 144) * 1.2) * price_per_sf\n",
    "    else:\n",
    "        raise ValueError(\"Invalid substrate\")\n",
    "\n",
    "\n",
    "    return cost_of_substrate"
   ]
  },
  {
   "cell_type": "code",
   "execution_count": 13,
   "id": "3b7d3514-7029-46d5-b503-f06a1815c192",
   "metadata": {},
   "outputs": [
    {
     "data": {
      "text/plain": [
       "23.104583333333334"
      ]
     },
     "execution_count": 13,
     "metadata": {},
     "output_type": "execute_result"
    }
   ],
   "source": [
    "test_substrate = test_substrate_cost(60, 60, 'canvas')\n",
    "test_substrate"
   ]
  },
  {
   "cell_type": "markdown",
   "id": "0a184fb4-047e-4653-b9cc-6b80211c3161",
   "metadata": {},
   "source": [
    "# The larger dimension needs to be the first argument"
   ]
  },
  {
   "cell_type": "code",
   "execution_count": 14,
   "id": "6ead9939-3fa9-407f-86be-bb949f9d3b25",
   "metadata": {},
   "outputs": [],
   "source": [
    "def test_frame_cost(length, width, frame_type):\n",
    "    # Calc Frame costs\n",
    "    # Check if a matching row exists in the DataFrame\n",
    "    length= float(length)\n",
    "    width= float(width)\n",
    "    matching_rows = frames_df[\n",
    "        (frames_df['Length'] == length) &\n",
    "        (frames_df['Width'] == width) &\n",
    "        (frames_df['Frame'].str.contains(frame_type))\n",
    "    ]\n",
    "\n",
    "    if not matching_rows.empty:\n",
    "        cost_of_frame = matching_rows['GP Price'].values[0]\n",
    "        return cost_of_frame\n",
    "    else:\n",
    "        print(f\"Frame with Length {length}, Width {width}, and Type {frame_type} not found.\")\n",
    "        return None  # Or any other appropriate value or indication"
   ]
  },
  {
   "cell_type": "code",
   "execution_count": 15,
   "id": "e4cacf39-7ded-4e1b-b491-7387fbe411e6",
   "metadata": {},
   "outputs": [
    {
     "data": {
      "text/plain": [
       "81.46"
      ]
     },
     "execution_count": 15,
     "metadata": {},
     "output_type": "execute_result"
    }
   ],
   "source": [
    "test_frames = test_frame_cost(20.5,14.5,'bfl')\n",
    "test_frames"
   ]
  },
  {
   "cell_type": "markdown",
   "id": "8c0e7486-ee5f-4a4b-b788-2e01b2a484d3",
   "metadata": {},
   "source": [
    "# Doesn't include printing on wrap around portion"
   ]
  },
  {
   "cell_type": "code",
   "execution_count": 16,
   "id": "b0bff3be-3b4f-4842-a22e-5eef99446433",
   "metadata": {},
   "outputs": [],
   "source": [
    "    # Implement the calculation for printer costs\n",
    "def test_printer_cost(length, width, printer):\n",
    "    \n",
    "        ink_per_sf = printer_costs_df.loc[printer_costs_df['PrinterName'] == printer, 'ink'].values[0]\n",
    "        labor_cost = printer_costs_df.loc[printer_costs_df['PrinterName'] == printer, 'labor'].values[0]\n",
    "\n",
    "        total_printer_cost = ((ink_per_sf) * (length * width) / 144) + labor_cost\n",
    "        return total_printer_cost"
   ]
  },
  {
   "cell_type": "code",
   "execution_count": 19,
   "id": "0463d75a-ba5c-4519-a9b8-c5cb0993ceed",
   "metadata": {},
   "outputs": [
    {
     "data": {
      "text/plain": [
       "10.24"
      ]
     },
     "execution_count": 19,
     "metadata": {},
     "output_type": "execute_result"
    }
   ],
   "source": [
    "test_printer = test_printer_cost(12,16,'inca-synograph')\n",
    "test_printer"
   ]
  },
  {
   "cell_type": "code",
   "execution_count": 24,
   "id": "ecca7ab5-c251-4009-abb7-c2a79900a345",
   "metadata": {},
   "outputs": [],
   "source": [
    "def test_hardware_cost(hardware):\n",
    "#implement hardware costs\n",
    "    hardware_cost = hardware_df.loc[hardware_df['hardwareType'] == hardware, 'price'].values[0]\n",
    "    return hardware_cost"
   ]
  },
  {
   "cell_type": "code",
   "execution_count": 27,
   "id": "67191161-5c37-4e8f-a022-1027ab42962e",
   "metadata": {},
   "outputs": [
    {
     "data": {
      "text/plain": [
       "2.0"
      ]
     },
     "execution_count": 27,
     "metadata": {},
     "output_type": "execute_result"
    }
   ],
   "source": [
    "test_hardware = test_hardware_cost('wire')\n",
    "test_hardware"
   ]
  },
  {
   "cell_type": "code",
   "execution_count": 37,
   "id": "e38adbc5-7652-436e-aec5-44f904468905",
   "metadata": {},
   "outputs": [],
   "source": [
    "    # Create the desired margin calculator\n",
    "def margin_calculator(final_cost, margin_percent, royalty_percent):\n",
    "\n",
    "\n",
    " #___________________________________________________________________________________   \n",
    "        margin_dec = margin_percent * .01\n",
    "        royalty_dec = royalty_percent * .01\n",
    "    \n",
    "        wsp = final_cost/(1-royalty_dec - margin_dec)\n",
    "        royalty_value = wsp * royalty_dec\n",
    "        final_cost_with_roy = final_cost + royalty_value\n",
    "        return final_cost_with_roy, wsp\n",
    " #________________________END FUNCTION______________________________________________ "
   ]
  },
  {
   "cell_type": "code",
   "execution_count": 38,
   "id": "c3f63c3b-6742-4961-ae8a-e973a291d930",
   "metadata": {},
   "outputs": [
    {
     "data": {
      "text/plain": [
       "(583.3333333333334, 1666.666666666667)"
      ]
     },
     "execution_count": 38,
     "metadata": {},
     "output_type": "execute_result"
    }
   ],
   "source": [
    "test_margin = margin_calculator(500, 65, 5)\n",
    "test_margin"
   ]
  },
  {
   "cell_type": "code",
   "execution_count": null,
   "id": "526450af-9748-40be-9120-d094f1b14123",
   "metadata": {},
   "outputs": [],
   "source": []
  }
 ],
 "metadata": {
  "kernelspec": {
   "display_name": "Python 3 (ipykernel)",
   "language": "python",
   "name": "python3"
  },
  "language_info": {
   "codemirror_mode": {
    "name": "ipython",
    "version": 3
   },
   "file_extension": ".py",
   "mimetype": "text/x-python",
   "name": "python",
   "nbconvert_exporter": "python",
   "pygments_lexer": "ipython3",
   "version": "3.11.6"
  }
 },
 "nbformat": 4,
 "nbformat_minor": 5
}
